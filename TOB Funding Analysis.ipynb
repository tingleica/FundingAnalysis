{
 "cells": [
  {
   "cell_type": "markdown",
   "id": "b46fe8bb",
   "metadata": {},
   "source": [
    "# Comparison of Regression Analysis Using Various Regressors in Scikit-learn\n",
    "\n",
    "The regression analysis is to determine how locking in a fixed rate of COF for a TOB compared to leaving the funding cost floating at the 7-day rate based on the historical data, and to see if we can identify the driving factors if they exist, and use the factors to make statistic predictions for the differences in COF for th two funding strategies.  For this analysis, we use a fixed term of 4y for the analysis, i.e., we'll compare the COF for fixing the COF at the market SIFMA swap rate, and the average COF of the floating COF realized during a 4y time window following the COF fixing date by calculating the difference between the two COF, which is labelled as'Realized_4yPremium' in the data file.\n",
    "\n",
    "Since the fixed COF is a known number that remains unchanged for the remaining 4 years, the realized premium will be determined by the 7day SIFMA rate resets to be realized over the 4y following the COF fixing date.  Basic macroeconomics suggusts that the resets will depend on macroeconomic data such as GDP, inflation and inflation expectations, etc. To build an econometric regression model, or a forecast model, the model inputs can only use data up to the COF fixed date, any data after that should not be used as model inputs.\n",
    "\n",
    "One may be tempted to use the macroeconomic data such as those mentioned above as the independent variables.  However, there is a serious problem that would limit this approach to be of any use.  The first problem is that 7-day SIFMA resets should be correlated to the macro data on the reset date, our dependent variable, the Realized4yPremium is for the 4y time window following the COF fixing date, hence the the macroeconomic data to be used for the model should be the expected data for the same time window, which do not exist.  Even the data exist, we know that the correlation bwteen the short rate reset and contemperaneous macroeconomic data is weak at the best.  \n",
    "\n",
    "Our hypothesis is that the futures market for the short term interest rates should reflect market participants' expection of the macroeconomic conditions in the future.  The expectation is quantitatively measured in the market rates of the term swaps.  Therefore we believe that the term swap rate quoted on the COF fixing date can be used as the independent variables, or features in ML terminology, for the model.  Fortunately liquid markets exist for both the taxable and tax-exempt swap market, we use the swap rates traded in the tax-exempt market as the model inputs as TOBs are for tax-exempt bonds.\n",
    "\n",
    "Historical SIFMA swap rates of maturities of 7days,1y, 2y,3y,4y, and 5y since 2007 are collected for this analysis.\n"
   ]
  },
  {
   "cell_type": "code",
   "execution_count": 1,
   "id": "936a7f95",
   "metadata": {},
   "outputs": [],
   "source": [
    "#Import Libraries\n",
    "\n",
    "import pandas as pd \n",
    "import numpy as np\n",
    "from sklearn.model_selection import train_test_split\n",
    "from sklearn.linear_model import LinearRegression\n",
    "from sklearn.metrics import mean_squared_error, mean_absolute_error\n",
    "from sklearn.metrics import r2_score\n",
    "import matplotlib.pyplot as plt\n",
    "\n"
   ]
  },
  {
   "cell_type": "code",
   "execution_count": 2,
   "id": "5f8eb6ee",
   "metadata": {},
   "outputs": [],
   "source": [
    "#Load Data\n",
    "#Data consists of historical SIFMA swap rates of maturities of 7days,1y, 2y,3y,4y, and 5y.\n",
    "Data = pd.read_csv('C:/Users/tingl/OneDrive/Documents/Python/Muni/Data4Realized4yPremium.csv')"
   ]
  },
  {
   "cell_type": "code",
   "execution_count": 3,
   "id": "1991ea2a",
   "metadata": {
    "scrolled": true
   },
   "outputs": [
    {
     "name": "stdout",
     "output_type": "stream",
     "text": [
      "<class 'pandas.core.frame.DataFrame'>\n",
      "RangeIndex: 591 entries, 0 to 590\n",
      "Data columns (total 8 columns):\n",
      " #   Column              Non-Null Count  Dtype  \n",
      "---  ------              --------------  -----  \n",
      " 0   D4yPrior_Date       591 non-null    object \n",
      " 1   Realized_4yPremium  591 non-null    float64\n",
      " 2   T4yPrior_SIFMA      591 non-null    float64\n",
      " 3   T4yPrior_1ySwap     591 non-null    float64\n",
      " 4   T4yPrior_2ySwap     591 non-null    float64\n",
      " 5   T4yPrior_3ySwap     591 non-null    float64\n",
      " 6   T4yPrior_4ySwap     591 non-null    float64\n",
      " 7   T4yPrior_5ySwap     591 non-null    float64\n",
      "dtypes: float64(7), object(1)\n",
      "memory usage: 37.1+ KB\n"
     ]
    }
   ],
   "source": [
    "#data summary info\n",
    "Data.info()\n",
    "#Data.count"
   ]
  },
  {
   "cell_type": "code",
   "execution_count": 4,
   "id": "a42826d1",
   "metadata": {},
   "outputs": [
    {
     "data": {
      "text/html": [
       "<div>\n",
       "<style scoped>\n",
       "    .dataframe tbody tr th:only-of-type {\n",
       "        vertical-align: middle;\n",
       "    }\n",
       "\n",
       "    .dataframe tbody tr th {\n",
       "        vertical-align: top;\n",
       "    }\n",
       "\n",
       "    .dataframe thead th {\n",
       "        text-align: right;\n",
       "    }\n",
       "</style>\n",
       "<table border=\"1\" class=\"dataframe\">\n",
       "  <thead>\n",
       "    <tr style=\"text-align: right;\">\n",
       "      <th></th>\n",
       "      <th>D4yPrior_Date</th>\n",
       "      <th>Realized_4yPremium</th>\n",
       "      <th>T4yPrior_SIFMA</th>\n",
       "      <th>T4yPrior_1ySwap</th>\n",
       "      <th>T4yPrior_2ySwap</th>\n",
       "      <th>T4yPrior_3ySwap</th>\n",
       "      <th>T4yPrior_4ySwap</th>\n",
       "      <th>T4yPrior_5ySwap</th>\n",
       "    </tr>\n",
       "  </thead>\n",
       "  <tbody>\n",
       "    <tr>\n",
       "      <th>0</th>\n",
       "      <td>4/25/2018</td>\n",
       "      <td>1.27</td>\n",
       "      <td>1.75</td>\n",
       "      <td>1.665</td>\n",
       "      <td>1.862</td>\n",
       "      <td>1.983</td>\n",
       "      <td>2.06</td>\n",
       "      <td>2.12</td>\n",
       "    </tr>\n",
       "    <tr>\n",
       "      <th>1</th>\n",
       "      <td>4/18/2018</td>\n",
       "      <td>1.21</td>\n",
       "      <td>1.81</td>\n",
       "      <td>1.644</td>\n",
       "      <td>1.832</td>\n",
       "      <td>1.939</td>\n",
       "      <td>2.00</td>\n",
       "      <td>2.05</td>\n",
       "    </tr>\n",
       "    <tr>\n",
       "      <th>2</th>\n",
       "      <td>4/11/2018</td>\n",
       "      <td>1.13</td>\n",
       "      <td>1.72</td>\n",
       "      <td>1.589</td>\n",
       "      <td>1.772</td>\n",
       "      <td>1.869</td>\n",
       "      <td>1.93</td>\n",
       "      <td>1.98</td>\n",
       "    </tr>\n",
       "    <tr>\n",
       "      <th>3</th>\n",
       "      <td>4/4/2018</td>\n",
       "      <td>1.15</td>\n",
       "      <td>1.60</td>\n",
       "      <td>1.577</td>\n",
       "      <td>1.772</td>\n",
       "      <td>1.877</td>\n",
       "      <td>1.95</td>\n",
       "      <td>2.00</td>\n",
       "    </tr>\n",
       "    <tr>\n",
       "      <th>4</th>\n",
       "      <td>3/28/2018</td>\n",
       "      <td>1.11</td>\n",
       "      <td>1.58</td>\n",
       "      <td>1.556</td>\n",
       "      <td>1.747</td>\n",
       "      <td>1.847</td>\n",
       "      <td>1.92</td>\n",
       "      <td>1.98</td>\n",
       "    </tr>\n",
       "  </tbody>\n",
       "</table>\n",
       "</div>"
      ],
      "text/plain": [
       "  D4yPrior_Date  Realized_4yPremium  T4yPrior_SIFMA  T4yPrior_1ySwap  \\\n",
       "0     4/25/2018                1.27            1.75            1.665   \n",
       "1     4/18/2018                1.21            1.81            1.644   \n",
       "2     4/11/2018                1.13            1.72            1.589   \n",
       "3      4/4/2018                1.15            1.60            1.577   \n",
       "4     3/28/2018                1.11            1.58            1.556   \n",
       "\n",
       "   T4yPrior_2ySwap  T4yPrior_3ySwap  T4yPrior_4ySwap  T4yPrior_5ySwap  \n",
       "0            1.862            1.983             2.06             2.12  \n",
       "1            1.832            1.939             2.00             2.05  \n",
       "2            1.772            1.869             1.93             1.98  \n",
       "3            1.772            1.877             1.95             2.00  \n",
       "4            1.747            1.847             1.92             1.98  "
      ]
     },
     "execution_count": 4,
     "metadata": {},
     "output_type": "execute_result"
    }
   ],
   "source": [
    "Data.head()"
   ]
  },
  {
   "cell_type": "code",
   "execution_count": 5,
   "id": "7ca770f6",
   "metadata": {},
   "outputs": [
    {
     "data": {
      "text/html": [
       "<div>\n",
       "<style scoped>\n",
       "    .dataframe tbody tr th:only-of-type {\n",
       "        vertical-align: middle;\n",
       "    }\n",
       "\n",
       "    .dataframe tbody tr th {\n",
       "        vertical-align: top;\n",
       "    }\n",
       "\n",
       "    .dataframe thead th {\n",
       "        text-align: right;\n",
       "    }\n",
       "</style>\n",
       "<table border=\"1\" class=\"dataframe\">\n",
       "  <thead>\n",
       "    <tr style=\"text-align: right;\">\n",
       "      <th></th>\n",
       "      <th>D4yPrior_Date</th>\n",
       "      <th>Realized_4yPremium</th>\n",
       "      <th>T4yPrior_SIFMA</th>\n",
       "      <th>T4yPrior_1ySwap</th>\n",
       "      <th>T4yPrior_2ySwap</th>\n",
       "      <th>T4yPrior_3ySwap</th>\n",
       "      <th>T4yPrior_4ySwap</th>\n",
       "      <th>T4yPrior_5ySwap</th>\n",
       "    </tr>\n",
       "  </thead>\n",
       "  <tbody>\n",
       "    <tr>\n",
       "      <th>586</th>\n",
       "      <td>1/31/2007</td>\n",
       "      <td>1.99</td>\n",
       "      <td>3.50</td>\n",
       "      <td>3.602</td>\n",
       "      <td>3.562</td>\n",
       "      <td>3.557</td>\n",
       "      <td>3.56</td>\n",
       "      <td>3.61</td>\n",
       "    </tr>\n",
       "    <tr>\n",
       "      <th>587</th>\n",
       "      <td>1/24/2007</td>\n",
       "      <td>1.97</td>\n",
       "      <td>3.61</td>\n",
       "      <td>3.599</td>\n",
       "      <td>3.540</td>\n",
       "      <td>3.524</td>\n",
       "      <td>3.55</td>\n",
       "      <td>3.59</td>\n",
       "    </tr>\n",
       "    <tr>\n",
       "      <th>588</th>\n",
       "      <td>1/17/2007</td>\n",
       "      <td>1.94</td>\n",
       "      <td>3.62</td>\n",
       "      <td>3.591</td>\n",
       "      <td>3.535</td>\n",
       "      <td>3.522</td>\n",
       "      <td>3.54</td>\n",
       "      <td>3.59</td>\n",
       "    </tr>\n",
       "    <tr>\n",
       "      <th>589</th>\n",
       "      <td>1/10/2007</td>\n",
       "      <td>1.85</td>\n",
       "      <td>3.63</td>\n",
       "      <td>3.548</td>\n",
       "      <td>3.461</td>\n",
       "      <td>3.437</td>\n",
       "      <td>3.47</td>\n",
       "      <td>3.51</td>\n",
       "    </tr>\n",
       "    <tr>\n",
       "      <th>590</th>\n",
       "      <td>1/3/2007</td>\n",
       "      <td>1.83</td>\n",
       "      <td>3.45</td>\n",
       "      <td>3.524</td>\n",
       "      <td>3.466</td>\n",
       "      <td>3.412</td>\n",
       "      <td>3.45</td>\n",
       "      <td>3.48</td>\n",
       "    </tr>\n",
       "  </tbody>\n",
       "</table>\n",
       "</div>"
      ],
      "text/plain": [
       "    D4yPrior_Date  Realized_4yPremium  T4yPrior_SIFMA  T4yPrior_1ySwap  \\\n",
       "586     1/31/2007                1.99            3.50            3.602   \n",
       "587     1/24/2007                1.97            3.61            3.599   \n",
       "588     1/17/2007                1.94            3.62            3.591   \n",
       "589     1/10/2007                1.85            3.63            3.548   \n",
       "590      1/3/2007                1.83            3.45            3.524   \n",
       "\n",
       "     T4yPrior_2ySwap  T4yPrior_3ySwap  T4yPrior_4ySwap  T4yPrior_5ySwap  \n",
       "586            3.562            3.557             3.56             3.61  \n",
       "587            3.540            3.524             3.55             3.59  \n",
       "588            3.535            3.522             3.54             3.59  \n",
       "589            3.461            3.437             3.47             3.51  \n",
       "590            3.466            3.412             3.45             3.48  "
      ]
     },
     "execution_count": 5,
     "metadata": {},
     "output_type": "execute_result"
    }
   ],
   "source": [
    "Data.tail()"
   ]
  },
  {
   "cell_type": "code",
   "execution_count": 156,
   "id": "910942d5",
   "metadata": {},
   "outputs": [
    {
     "data": {
      "text/plain": [
       "count    591.000000\n",
       "mean       0.900931\n",
       "std        0.822446\n",
       "min       -0.550000\n",
       "25%        0.330000\n",
       "50%        0.600000\n",
       "75%        1.590000\n",
       "max        2.750000\n",
       "Name: Realized_4yPremium, dtype: float64"
      ]
     },
     "execution_count": 156,
     "metadata": {},
     "output_type": "execute_result"
    }
   ],
   "source": [
    "#check the dependent variable Y\n",
    "y=Data['Realized_4yPremium']\n",
    "y.describe()"
   ]
  },
  {
   "cell_type": "code",
   "execution_count": 101,
   "id": "f80c5491",
   "metadata": {},
   "outputs": [
    {
     "data": {
      "image/png": "[encoded data removed]",
      "text/plain": [
       "<Figure size 432x288 with 1 Axes>"
      ]
     },
     "metadata": {
      "needs_background": "light"
     },
     "output_type": "display_data"
    }
   ],
   "source": [
    "#show histogram of y\n",
    "n, bins, patches = plt.hist(y, 20, density=0, facecolor='g', alpha=0.8)\n",
    "plt.xlabel('Realized 4yPremium')\n",
    "plt.ylabel('Frequency')\n",
    "plt.title('Histogram of Realized Premium')\n",
    "plt.text(-0.9, 100, r'Realized Premium= 4Y-AVG(4ySwap)-4ySwap(on startDate)')\n",
    "plt.axis([-1, 4, 0, 110])\n",
    "plt.grid(True)\n",
    "plt.show()"
   ]
  },
  {
   "cell_type": "code",
   "execution_count": 108,
   "id": "933efacd",
   "metadata": {},
   "outputs": [
    {
     "data": {
      "text/plain": [
       "array([-0.55 , -0.385, -0.22 , -0.055,  0.11 ,  0.275,  0.44 ,  0.605,\n",
       "        0.77 ,  0.935,  1.1  ,  1.265,  1.43 ,  1.595,  1.76 ,  1.925,\n",
       "        2.09 ,  2.255,  2.42 ,  2.585,  2.75 ])"
      ]
     },
     "execution_count": 108,
     "metadata": {},
     "output_type": "execute_result"
    }
   ],
   "source": [
    "#n and bins returns values for counts and bin borders\n",
    "bins"
   ]
  },
  {
   "cell_type": "code",
   "execution_count": 158,
   "id": "bdd7111c",
   "metadata": {},
   "outputs": [
    {
     "data": {
      "text/plain": [
       "'Realized 4y Premium'"
      ]
     },
     "execution_count": 158,
     "metadata": {},
     "output_type": "execute_result"
    },
    {
     "data": {
      "image/png": "[encoded data removed]",
      "text/plain": [
       "<Figure size 864x360 with 1 Axes>"
      ]
     },
     "metadata": {
      "needs_background": "light"
     },
     "output_type": "display_data"
    }
   ],
   "source": [
    "plt.figure(figsize=(12,5))\n",
    "DT=pd.to_datetime(Data['D4yPrior_Date'])\n",
    "type(DT)\n",
    "ax=plt.plot(DT, y, color='g')\n",
    "plt.xlabel('Date')\n",
    "plt.ylabel"
   ]
  },
  {
   "cell_type": "code",
   "execution_count": 201,
   "id": "2ab8ac83",
   "metadata": {
    "scrolled": true
   },
   "outputs": [
    {
     "data": {
      "text/html": [
       "<div>\n",
       "<style scoped>\n",
       "    .dataframe tbody tr th:only-of-type {\n",
       "        vertical-align: middle;\n",
       "    }\n",
       "\n",
       "    .dataframe tbody tr th {\n",
       "        vertical-align: top;\n",
       "    }\n",
       "\n",
       "    .dataframe thead th {\n",
       "        text-align: right;\n",
       "    }\n",
       "</style>\n",
       "<table border=\"1\" class=\"dataframe\">\n",
       "  <thead>\n",
       "    <tr style=\"text-align: right;\">\n",
       "      <th></th>\n",
       "      <th>Realized_4yPremium</th>\n",
       "      <th>T4yPrior_SIFMA</th>\n",
       "      <th>T4yPrior_1ySwap</th>\n",
       "      <th>T4yPrior_2ySwap</th>\n",
       "      <th>T4yPrior_3ySwap</th>\n",
       "      <th>T4yPrior_4ySwap</th>\n",
       "      <th>T4yPrior_5ySwap</th>\n",
       "    </tr>\n",
       "  </thead>\n",
       "  <tbody>\n",
       "    <tr>\n",
       "      <th>Realized_4yPremium</th>\n",
       "      <td>1.000000</td>\n",
       "      <td>0.669999</td>\n",
       "      <td>0.726648</td>\n",
       "      <td>0.781776</td>\n",
       "      <td>0.838441</td>\n",
       "      <td>0.882804</td>\n",
       "      <td>0.915235</td>\n",
       "    </tr>\n",
       "    <tr>\n",
       "      <th>T4yPrior_SIFMA</th>\n",
       "      <td>0.669999</td>\n",
       "      <td>1.000000</td>\n",
       "      <td>0.954004</td>\n",
       "      <td>0.931701</td>\n",
       "      <td>0.900182</td>\n",
       "      <td>0.865537</td>\n",
       "      <td>0.828883</td>\n",
       "    </tr>\n",
       "    <tr>\n",
       "      <th>T4yPrior_1ySwap</th>\n",
       "      <td>0.726648</td>\n",
       "      <td>0.954004</td>\n",
       "      <td>1.000000</td>\n",
       "      <td>0.990231</td>\n",
       "      <td>0.963548</td>\n",
       "      <td>0.931086</td>\n",
       "      <td>0.894675</td>\n",
       "    </tr>\n",
       "    <tr>\n",
       "      <th>T4yPrior_2ySwap</th>\n",
       "      <td>0.781776</td>\n",
       "      <td>0.931701</td>\n",
       "      <td>0.990231</td>\n",
       "      <td>1.000000</td>\n",
       "      <td>0.990296</td>\n",
       "      <td>0.968402</td>\n",
       "      <td>0.938875</td>\n",
       "    </tr>\n",
       "    <tr>\n",
       "      <th>T4yPrior_3ySwap</th>\n",
       "      <td>0.838441</td>\n",
       "      <td>0.900182</td>\n",
       "      <td>0.963548</td>\n",
       "      <td>0.990296</td>\n",
       "      <td>1.000000</td>\n",
       "      <td>0.992941</td>\n",
       "      <td>0.974956</td>\n",
       "    </tr>\n",
       "    <tr>\n",
       "      <th>T4yPrior_4ySwap</th>\n",
       "      <td>0.882804</td>\n",
       "      <td>0.865537</td>\n",
       "      <td>0.931086</td>\n",
       "      <td>0.968402</td>\n",
       "      <td>0.992941</td>\n",
       "      <td>1.000000</td>\n",
       "      <td>0.994179</td>\n",
       "    </tr>\n",
       "    <tr>\n",
       "      <th>T4yPrior_5ySwap</th>\n",
       "      <td>0.915235</td>\n",
       "      <td>0.828883</td>\n",
       "      <td>0.894675</td>\n",
       "      <td>0.938875</td>\n",
       "      <td>0.974956</td>\n",
       "      <td>0.994179</td>\n",
       "      <td>1.000000</td>\n",
       "    </tr>\n",
       "  </tbody>\n",
       "</table>\n",
       "</div>"
      ],
      "text/plain": [
       "                    Realized_4yPremium  T4yPrior_SIFMA  T4yPrior_1ySwap  \\\n",
       "Realized_4yPremium            1.000000        0.669999         0.726648   \n",
       "T4yPrior_SIFMA                0.669999        1.000000         0.954004   \n",
       "T4yPrior_1ySwap               0.726648        0.954004         1.000000   \n",
       "T4yPrior_2ySwap               0.781776        0.931701         0.990231   \n",
       "T4yPrior_3ySwap               0.838441        0.900182         0.963548   \n",
       "T4yPrior_4ySwap               0.882804        0.865537         0.931086   \n",
       "T4yPrior_5ySwap               0.915235        0.828883         0.894675   \n",
       "\n",
       "                    T4yPrior_2ySwap  T4yPrior_3ySwap  T4yPrior_4ySwap  \\\n",
       "Realized_4yPremium         0.781776         0.838441         0.882804   \n",
       "T4yPrior_SIFMA             0.931701         0.900182         0.865537   \n",
       "T4yPrior_1ySwap            0.990231         0.963548         0.931086   \n",
       "T4yPrior_2ySwap            1.000000         0.990296         0.968402   \n",
       "T4yPrior_3ySwap            0.990296         1.000000         0.992941   \n",
       "T4yPrior_4ySwap            0.968402         0.992941         1.000000   \n",
       "T4yPrior_5ySwap            0.938875         0.974956         0.994179   \n",
       "\n",
       "                    T4yPrior_5ySwap  \n",
       "Realized_4yPremium         0.915235  \n",
       "T4yPrior_SIFMA             0.828883  \n",
       "T4yPrior_1ySwap            0.894675  \n",
       "T4yPrior_2ySwap            0.938875  \n",
       "T4yPrior_3ySwap            0.974956  \n",
       "T4yPrior_4ySwap            0.994179  \n",
       "T4yPrior_5ySwap            1.000000  "
      ]
     },
     "execution_count": 201,
     "metadata": {},
     "output_type": "execute_result"
    }
   ],
   "source": [
    "#Before defining y and x variables, we can check the correlation matrix first.  We need to drop the Date col first\n",
    "xy=Data.drop(['D4yPrior_Date'], axis=1)\n",
    "xy.corr()\n"
   ]
  },
  {
   "cell_type": "markdown",
   "id": "852707ec",
   "metadata": {},
   "source": [
    "\n",
    "We see that the Realized_4yPremium has high correlations to all of the swap rates, so it looks promissing that our hypothesis will be statistically validated.  Because of the the swap rates are very correlated amongst themselves, it's likely that we'll not need all of the swap rates as the independent variables.  Based on the correlation matrix, T4yPrior_4ySwap and T4yPrior_5ySwap have the highest correlation coefficients. We'll first run regression analysis using all input variables as the independent factors, then using only T4yPrior_4ySwap and T4yPrior_5ySwap as the independent factors as they are mostly correlcted to the dependent variable.\n"
   ]
  },
  {
   "cell_type": "code",
   "execution_count": 305,
   "id": "e27b5040",
   "metadata": {},
   "outputs": [
    {
     "name": "stdout",
     "output_type": "stream",
     "text": [
      "[[1.75  1.665 1.862 1.983 2.06  2.12 ]\n",
      " [1.81  1.644 1.832 1.939 2.    2.05 ]\n",
      " [1.72  1.589 1.772 1.869 1.93  1.98 ]\n",
      " ...\n",
      " [3.62  3.591 3.535 3.522 3.54  3.59 ]\n",
      " [3.63  3.548 3.461 3.437 3.47  3.51 ]\n",
      " [3.45  3.524 3.466 3.412 3.45  3.48 ]]\n"
     ]
    }
   ],
   "source": [
    "#Define x, and y, note that we need to use numpy array for the x and y to be used as input for sklearn regressors\n",
    "y=Data['Realized_4yPremium'].values\n",
    "#dropping the Date col and y col\n",
    "x=Data.drop(['Realized_4yPremium','D4yPrior_Date'], axis=1).values\n",
    "#check what x is\n",
    "print(x)"
   ]
  },
  {
   "cell_type": "code",
   "execution_count": 306,
   "id": "08437a46",
   "metadata": {},
   "outputs": [],
   "source": [
    "#Split dataset into training set and test set, with 25% data randomly selected as the test data\n",
    "x_train,  x_test, y_train, y_test =train_test_split(x,y,test_size=0.25, random_state=1)"
   ]
  },
  {
   "cell_type": "code",
   "execution_count": 307,
   "id": "a9d9fdab",
   "metadata": {},
   "outputs": [
    {
     "name": "stdout",
     "output_type": "stream",
     "text": [
      "R_Square: 0.9068694874789982\n"
     ]
    }
   ],
   "source": [
    "#train linear regression model on the training data\n",
    "LR=LinearRegression()\n",
    "LR.fit(x_train,y_train)\n",
    "print(\"R_Square:\", LR.score(x_train,y_train))"
   ]
  },
  {
   "cell_type": "code",
   "execution_count": 308,
   "id": "286d30ae",
   "metadata": {},
   "outputs": [],
   "source": [
    "#prediction using test data\n",
    "y_pred=LR.predict(x_test)"
   ]
  },
  {
   "cell_type": "code",
   "execution_count": 309,
   "id": "d039e997",
   "metadata": {},
   "outputs": [
    {
     "name": "stdout",
     "output_type": "stream",
     "text": [
      "R_Square: 0.9012004874948562\n"
     ]
    }
   ],
   "source": [
    "#Calc r-square for the test data\n",
    "print(\"R_Square:\", r2_score(y_pred, y_test))"
   ]
  },
  {
   "cell_type": "code",
   "execution_count": 310,
   "id": "4fea75cd",
   "metadata": {},
   "outputs": [
    {
     "name": "stdout",
     "output_type": "stream",
     "text": [
      "MSE: 0.059670867580460404\n"
     ]
    }
   ],
   "source": [
    "#Cacl mean-squared-error for the test data\n",
    "print(\"MSE:\", mean_squared_error(y_pred, y_test))"
   ]
  },
  {
   "cell_type": "code",
   "execution_count": 311,
   "id": "985f1217",
   "metadata": {},
   "outputs": [],
   "source": [
    "# Run regression analysis using only the 4y and 5y swap rates as the independent variable\n",
    "x=Data.drop(['Realized_4yPremium','D4yPrior_Date','T4yPrior_SIFMA','T4yPrior_1ySwap','T4yPrior_2ySwap','T4yPrior_3ySwap'], axis=1).values\n",
    "y=Data['Realized_4yPremium'].values\n",
    "#Split dataset into training set and test set, with 25% data randomly selected as the test data\n",
    "x_train,  x_test, y_train, y_test =train_test_split(x,y,test_size=0.25, random_state=1)"
   ]
  },
  {
   "cell_type": "code",
   "execution_count": 312,
   "id": "50c7b08b",
   "metadata": {},
   "outputs": [
    {
     "name": "stdout",
     "output_type": "stream",
     "text": [
      "R_Square: 0.9010580365240635\n"
     ]
    }
   ],
   "source": [
    "#train linear regression model on the training data\n",
    "LR=LinearRegression()\n",
    "LR.fit(x_train,y_train)\n",
    "print(\"R_Square:\", LR.score(x_train,y_train))"
   ]
  },
  {
   "cell_type": "code",
   "execution_count": 313,
   "id": "4b548ab0",
   "metadata": {},
   "outputs": [
    {
     "name": "stdout",
     "output_type": "stream",
     "text": [
      "R_Square: 0.8965966880946858\n"
     ]
    }
   ],
   "source": [
    "#prediction using test data\n",
    "y_pred=LR.predict(x_test)\n",
    "#Calc r-square for the test data\n",
    "print(\"R_Square:\", r2_score(y_pred, y_test))"
   ]
  },
  {
   "cell_type": "code",
   "execution_count": 315,
   "id": "9024b391",
   "metadata": {},
   "outputs": [
    {
     "name": "stdout",
     "output_type": "stream",
     "text": [
      "MSE: 0.06176518979213677\n"
     ]
    }
   ],
   "source": [
    "#Cacl mean-squared-error for the test data\n",
    "print(\"MSE:\", mean_squared_error(y_pred, y_test))"
   ]
  },
  {
   "cell_type": "code",
   "execution_count": 314,
   "id": "4ee98f53",
   "metadata": {},
   "outputs": [
    {
     "name": "stdout",
     "output_type": "stream",
     "text": [
      "Coefficients: \n",
      " [-2.20941306  3.18214232]\n",
      "Intercept: \n",
      " -1.147405456903586\n"
     ]
    }
   ],
   "source": [
    "#print out regression coefficients\n",
    "print(\"Coefficients: \\n\", LR.coef_)\n",
    "print(\"Intercept: \\n\", LR.intercept_)"
   ]
  },
  {
   "cell_type": "code",
   "execution_count": 284,
   "id": "bc55d7c7",
   "metadata": {},
   "outputs": [
    {
     "data": {
      "text/plain": [
       "Text(0.5, 1.0, 'y_test and y_pred vs. 4y swap')"
      ]
     },
     "execution_count": 284,
     "metadata": {},
     "output_type": "execute_result"
    },
    {
     "data": {
      "image/png": "[encoded data removed]",
      "text/plain": [
       "<Figure size 720x432 with 1 Axes>"
      ]
     },
     "metadata": {
      "needs_background": "light"
     },
     "output_type": "display_data"
    }
   ],
   "source": [
    "#plot regression \n",
    "x1=x_test[:,0]\n",
    "x2=x_test[:,1]\n",
    "\n",
    "plt.figure(figsize=(10,6))\n",
    "plt.scatter(x1, y_test)\n",
    "plt.scatter(x1, y_pred)\n",
    "#note that x2 is not fixed for the y vs. x1 plot\n",
    "plt.xlabel(\"4y Swap Rate\")\n",
    "plt.title(\"y_test and y_pred vs. 4y swap\")\n",
    "#plt.ylabel(\"Predicted\")\n"
   ]
  },
  {
   "cell_type": "markdown",
   "id": "265e6e85",
   "metadata": {},
   "source": [
    "we see that results of using all swaps rates for the regression analysis are only marginally better than using only the 4y and 5y swap rates.  Therefore we can use the results of using only the 4y and 5y swap rates for simplicity.\n",
    "\n",
    "Given the regression results, we can conclude that we can predict, with ~90% confidence based on the 4y and 5y swap rates on the fixing date, the premium of fixing the OCF over the floating to be realized for the 4 years following the fixing date.\n",
    "\n",
    "The regression analysis above can also be carried out in MSExcel, even though the data setup will not be as easy as in Python.  In the following, we'll do more analysis not available in Excel. We'll show how to use various ML models available in sklearn, a Python library.\n"
   ]
  },
  {
   "cell_type": "markdown",
   "id": "644e75c3",
   "metadata": {},
   "source": [
    "Before getting into using nonlinear models, we'll experiment with PCA to show how PCA works.  PCA is a commonly used method for dimension reduction.  With PCA, we use the so-called Principal Component, which is a linear combination of the original factors/features.  The principal components are constructed to be orthogonal to each other, i.e. the correlation matrix for the principal components only have non-zero values along the diagnal of the matrix.  We'll run linear regression using the principal components as the independent variables.  "
   ]
  },
  {
   "cell_type": "code",
   "execution_count": 316,
   "id": "d5b17240",
   "metadata": {},
   "outputs": [],
   "source": [
    "#import PCA from library\n",
    "from sklearn.decomposition import PCA"
   ]
  },
  {
   "cell_type": "code",
   "execution_count": 323,
   "id": "bc7d42fe",
   "metadata": {},
   "outputs": [
    {
     "data": {
      "text/plain": [
       "(591, 2)"
      ]
     },
     "execution_count": 323,
     "metadata": {},
     "output_type": "execute_result"
    }
   ],
   "source": [
    "x4pca=Data.drop(['Realized_4yPremium','D4yPrior_Date','T4yPrior_SIFMA'], axis=1).values\n",
    "y=Data['Realized_4yPremium'].values\n",
    "pca=PCA(n_components=2)\n",
    "#we choose the first 2 Principal components so that we'll have the same number of independent variables for linear regression.\n",
    "pca.fit(x4pca)\n",
    "xpca=pca.transform(x4pca)\n",
    "xpca.shape"
   ]
  },
  {
   "cell_type": "code",
   "execution_count": 324,
   "id": "4d0660f0",
   "metadata": {},
   "outputs": [
    {
     "data": {
      "text/plain": [
       "array([[ 1.56084946, -0.18269575],\n",
       "       [ 1.46262077, -0.22832726],\n",
       "       [ 1.3181659 , -0.24943937],\n",
       "       ...,\n",
       "       [ 5.1909862 , -0.3475778 ],\n",
       "       [ 5.03498285, -0.37972055],\n",
       "       [ 4.99363474, -0.39304672]])"
      ]
     },
     "execution_count": 324,
     "metadata": {},
     "output_type": "execute_result"
    }
   ],
   "source": [
    "xpca"
   ]
  },
  {
   "cell_type": "code",
   "execution_count": 325,
   "id": "4e63a610",
   "metadata": {},
   "outputs": [
    {
     "data": {
      "text/html": [
       "<div>\n",
       "<style scoped>\n",
       "    .dataframe tbody tr th:only-of-type {\n",
       "        vertical-align: middle;\n",
       "    }\n",
       "\n",
       "    .dataframe tbody tr th {\n",
       "        vertical-align: top;\n",
       "    }\n",
       "\n",
       "    .dataframe thead th {\n",
       "        text-align: right;\n",
       "    }\n",
       "</style>\n",
       "<table border=\"1\" class=\"dataframe\">\n",
       "  <thead>\n",
       "    <tr style=\"text-align: right;\">\n",
       "      <th></th>\n",
       "      <th>PC1</th>\n",
       "      <th>PC2</th>\n",
       "    </tr>\n",
       "  </thead>\n",
       "  <tbody>\n",
       "    <tr>\n",
       "      <th>0</th>\n",
       "      <td>1.560849</td>\n",
       "      <td>-0.182696</td>\n",
       "    </tr>\n",
       "    <tr>\n",
       "      <th>1</th>\n",
       "      <td>1.462621</td>\n",
       "      <td>-0.228327</td>\n",
       "    </tr>\n",
       "    <tr>\n",
       "      <th>2</th>\n",
       "      <td>1.318166</td>\n",
       "      <td>-0.249439</td>\n",
       "    </tr>\n",
       "    <tr>\n",
       "      <th>3</th>\n",
       "      <td>1.332798</td>\n",
       "      <td>-0.221610</td>\n",
       "    </tr>\n",
       "    <tr>\n",
       "      <th>4</th>\n",
       "      <td>1.276534</td>\n",
       "      <td>-0.226637</td>\n",
       "    </tr>\n",
       "  </tbody>\n",
       "</table>\n",
       "</div>"
      ],
      "text/plain": [
       "        PC1       PC2\n",
       "0  1.560849 -0.182696\n",
       "1  1.462621 -0.228327\n",
       "2  1.318166 -0.249439\n",
       "3  1.332798 -0.221610\n",
       "4  1.276534 -0.226637"
      ]
     },
     "execution_count": 325,
     "metadata": {},
     "output_type": "execute_result"
    }
   ],
   "source": [
    "#to see the data in a better format\n",
    "xdf=pd.DataFrame(xpca, columns=[\"PC1\",\"PC2\"])\n",
    "xdf.head()"
   ]
  },
  {
   "cell_type": "code",
   "execution_count": 326,
   "id": "7d153a2c",
   "metadata": {},
   "outputs": [],
   "source": [
    "#Split dataset into training set and test set\n",
    "xpca_train,  xpca_test, y_train, y_test =train_test_split(xpca,y,test_size=0.25, random_state=1)"
   ]
  },
  {
   "cell_type": "code",
   "execution_count": 329,
   "id": "398c6008",
   "metadata": {},
   "outputs": [
    {
     "name": "stdout",
     "output_type": "stream",
     "text": [
      "R_Square: 0.8672257729005755\n"
     ]
    }
   ],
   "source": [
    "#train linear regression model on training data\n",
    "PCA_LR=LinearRegression()\n",
    "PCA_LR.fit(xpca_train,y_train)\n",
    "print(\"R_Square:\", PCA_LR.score(xpca_train,y_train))"
   ]
  },
  {
   "cell_type": "code",
   "execution_count": 330,
   "id": "d90018bd",
   "metadata": {},
   "outputs": [
    {
     "name": "stdout",
     "output_type": "stream",
     "text": [
      "MSE: 0.06176518979213677\n"
     ]
    }
   ],
   "source": [
    "#Cacl mean-squared-error for the test data\n",
    "print(\"MSE:\", mean_squared_error(y_pred, y_test))"
   ]
  },
  {
   "cell_type": "code",
   "execution_count": 332,
   "id": "9a7dc75d",
   "metadata": {},
   "outputs": [
    {
     "data": {
      "text/plain": [
       "array([0.97096734, 0.0276632 ])"
      ]
     },
     "execution_count": 332,
     "metadata": {},
     "output_type": "execute_result"
    }
   ],
   "source": [
    "#PCA contribution to variance\n",
    "pca.explained_variance_ratio_"
   ]
  },
  {
   "cell_type": "markdown",
   "id": "0f02f181",
   "metadata": {},
   "source": [
    "we'll now use the following nonlinear regressiors: Decision Tree, Random Forrest, SVM and Neural Network"
   ]
  },
  {
   "cell_type": "code",
   "execution_count": 225,
   "id": "ef6ddb69",
   "metadata": {},
   "outputs": [],
   "source": [
    "#import Decision Tree\n",
    "from sklearn.tree import DecisionTreeRegressor\n",
    "#create a model\n",
    "DT_data =DecisionTreeRegressor().fit(x_train,y_train)\n"
   ]
  },
  {
   "cell_type": "code",
   "execution_count": 226,
   "id": "c5a30de1",
   "metadata": {},
   "outputs": [
    {
     "name": "stdout",
     "output_type": "stream",
     "text": [
      "0.9998278368029373\n"
     ]
    }
   ],
   "source": [
    "print(DT_data.score(x_train,y_train))"
   ]
  },
  {
   "cell_type": "code",
   "execution_count": 229,
   "id": "69a61f31",
   "metadata": {},
   "outputs": [
    {
     "name": "stdout",
     "output_type": "stream",
     "text": [
      "0.9998278071576671\n"
     ]
    }
   ],
   "source": [
    "DT_ypred=DT_data.predict(x_train)\n",
    "print(r2_score(DT_ypred, y_train))"
   ]
  },
  {
   "cell_type": "code",
   "execution_count": 230,
   "id": "ebc2956e",
   "metadata": {},
   "outputs": [
    {
     "name": "stdout",
     "output_type": "stream",
     "text": [
      "0.9071774405205761\n"
     ]
    }
   ],
   "source": [
    "DT_ytest=DT_data.predict(x_test)\n",
    "print(r2_score(DT_ytest, y_test))"
   ]
  },
  {
   "cell_type": "code",
   "execution_count": 215,
   "id": "7f9db37c",
   "metadata": {},
   "outputs": [],
   "source": [
    "\n"
   ]
  },
  {
   "cell_type": "code",
   "execution_count": 39,
   "id": "1c4f6b65",
   "metadata": {},
   "outputs": [],
   "source": [
    "from sklearn.ensemble import RandomForestRegressor\n",
    "rf=RandomForestRegressor(n_estimators=10,random_state=12)"
   ]
  },
  {
   "cell_type": "code",
   "execution_count": 40,
   "id": "90632aed",
   "metadata": {},
   "outputs": [],
   "source": [
    "\n",
    "#Split dataset into training set and test set\n",
    "x_train,  x_test, y_train, y_test =train_test_split(x,y,test_size=0.3, random_state=1)\n",
    "\n",
    "rf_model=rf.fit(x_train,y_train)\n"
   ]
  },
  {
   "cell_type": "code",
   "execution_count": 41,
   "id": "cb43b11f",
   "metadata": {},
   "outputs": [
    {
     "data": {
      "text/plain": [
       "0.9909112335707475"
      ]
     },
     "execution_count": 41,
     "metadata": {},
     "output_type": "execute_result"
    }
   ],
   "source": [
    "rf_model.score(x_train,y_train)"
   ]
  },
  {
   "cell_type": "code",
   "execution_count": 42,
   "id": "e9ad07a1",
   "metadata": {},
   "outputs": [
    {
     "data": {
      "text/plain": [
       "0.9420339282121755"
      ]
     },
     "execution_count": 42,
     "metadata": {},
     "output_type": "execute_result"
    }
   ],
   "source": [
    "y_rfpred=rf_model.predict(x_test)\n",
    "r2_score(y_rfpred, y_test)"
   ]
  },
  {
   "cell_type": "code",
   "execution_count": 43,
   "id": "ae074f91",
   "metadata": {},
   "outputs": [],
   "source": [
    "from sklearn.svm import SVR"
   ]
  },
  {
   "cell_type": "code",
   "execution_count": 44,
   "id": "19276539",
   "metadata": {},
   "outputs": [
    {
     "data": {
      "text/plain": [
       "SVR()"
      ]
     },
     "execution_count": 44,
     "metadata": {},
     "output_type": "execute_result"
    }
   ],
   "source": [
    "SVM_regression=SVR()\n",
    "SVM_regression.fit(x_train,y_train)"
   ]
  },
  {
   "cell_type": "code",
   "execution_count": 45,
   "id": "4230a5fb",
   "metadata": {},
   "outputs": [
    {
     "data": {
      "text/plain": [
       "0.9348425638424869"
      ]
     },
     "execution_count": 45,
     "metadata": {},
     "output_type": "execute_result"
    }
   ],
   "source": [
    "SVM_regression.score(x_train,y_train)"
   ]
  },
  {
   "cell_type": "code",
   "execution_count": 46,
   "id": "75f1829d",
   "metadata": {},
   "outputs": [
    {
     "data": {
      "text/plain": [
       "0.9313591139847857"
      ]
     },
     "execution_count": 46,
     "metadata": {},
     "output_type": "execute_result"
    }
   ],
   "source": [
    "y_svmtrain=SVM_regression.predict(x_train)\n",
    "\n",
    "r2_score(y_svmtrain, y_train)\n"
   ]
  },
  {
   "cell_type": "code",
   "execution_count": 47,
   "id": "4c8a7f84",
   "metadata": {},
   "outputs": [
    {
     "data": {
      "text/plain": [
       "0.943040238733662"
      ]
     },
     "execution_count": 47,
     "metadata": {},
     "output_type": "execute_result"
    }
   ],
   "source": [
    "y_svmpred=SVM_regression.predict(x_test)\n",
    "r2_score(y_svmpred, y_test)"
   ]
  },
  {
   "cell_type": "code",
   "execution_count": 48,
   "id": "353221da",
   "metadata": {},
   "outputs": [
    {
     "data": {
      "text/plain": [
       "[<matplotlib.lines.Line2D at 0x1705b1eccd0>]"
      ]
     },
     "execution_count": 48,
     "metadata": {},
     "output_type": "execute_result"
    },
    {
     "data": {
      "image/png": "[encoded data removed]",
      "text/plain": [
       "<Figure size 432x288 with 1 Axes>"
      ]
     },
     "metadata": {
      "needs_background": "light"
     },
     "output_type": "display_data"
    }
   ],
   "source": [
    "#plot training data\n",
    "plt.scatter(y_train, y_svmtrain)\n",
    "plt.plot(y_train, y_train, \"red\")"
   ]
  },
  {
   "cell_type": "code",
   "execution_count": 49,
   "id": "b9166b87",
   "metadata": {},
   "outputs": [],
   "source": [
    "#plot test data"
   ]
  },
  {
   "cell_type": "code",
   "execution_count": 50,
   "id": "8245392d",
   "metadata": {},
   "outputs": [
    {
     "data": {
      "text/plain": [
       "[<matplotlib.lines.Line2D at 0x1705b255520>]"
      ]
     },
     "execution_count": 50,
     "metadata": {},
     "output_type": "execute_result"
    },
    {
     "data": {
      "image/png": "[encoded data removed]",
      "text/plain": [
       "<Figure size 432x288 with 1 Axes>"
      ]
     },
     "metadata": {
      "needs_background": "light"
     },
     "output_type": "display_data"
    }
   ],
   "source": [
    "#sns.scatterplot(y_test,y_svmpred)\n",
    "plt.scatter(y_svmpred, y_test)\n",
    "plt.plot(y_test, y_test, \"red\")"
   ]
  },
  {
   "cell_type": "code",
   "execution_count": 51,
   "id": "06db5562",
   "metadata": {},
   "outputs": [],
   "source": [
    "from sklearn.neural_network import MLPClassifier, MLPRegressor\n"
   ]
  },
  {
   "cell_type": "code",
   "execution_count": 52,
   "id": "ca9c101e",
   "metadata": {},
   "outputs": [],
   "source": [
    "NN=MLPRegressor(hidden_layer_sizes=(150,),max_iter=1000, activation=\"relu\",random_state=12)\n"
   ]
  },
  {
   "cell_type": "code",
   "execution_count": 53,
   "id": "7f4d47b9",
   "metadata": {},
   "outputs": [
    {
     "data": {
      "text/plain": [
       "MLPRegressor(hidden_layer_sizes=(150,), max_iter=1000, random_state=12)"
      ]
     },
     "execution_count": 53,
     "metadata": {},
     "output_type": "execute_result"
    }
   ],
   "source": [
    "NN.fit(x_train,y_train)\n"
   ]
  },
  {
   "cell_type": "code",
   "execution_count": 54,
   "id": "73c906c8",
   "metadata": {},
   "outputs": [],
   "source": [
    "y_nnpred=NN.predict(x_test)"
   ]
  },
  {
   "cell_type": "code",
   "execution_count": 55,
   "id": "a243b686",
   "metadata": {},
   "outputs": [
    {
     "data": {
      "text/plain": [
       "0.9172634629796868"
      ]
     },
     "execution_count": 55,
     "metadata": {},
     "output_type": "execute_result"
    }
   ],
   "source": [
    "r2_score(y_nnpred, y_test)"
   ]
  },
  {
   "cell_type": "code",
   "execution_count": 56,
   "id": "1a591c72",
   "metadata": {},
   "outputs": [],
   "source": [
    "y_nntrain=NN.predict(x_train)"
   ]
  },
  {
   "cell_type": "code",
   "execution_count": 57,
   "id": "0eb15f6e",
   "metadata": {},
   "outputs": [
    {
     "data": {
      "text/plain": [
       "0.9142214246375718"
      ]
     },
     "execution_count": 57,
     "metadata": {},
     "output_type": "execute_result"
    }
   ],
   "source": [
    "r2_score(y_nntrain, y_train)"
   ]
  },
  {
   "cell_type": "code",
   "execution_count": 58,
   "id": "96171411",
   "metadata": {},
   "outputs": [
    {
     "data": {
      "text/plain": [
       "[<matplotlib.lines.Line2D at 0x1705b2e9a30>]"
      ]
     },
     "execution_count": 58,
     "metadata": {},
     "output_type": "execute_result"
    },
    {
     "data": {
      "image/png": "[encoded data removed]",
      "text/plain": [
       "<Figure size 432x288 with 1 Axes>"
      ]
     },
     "metadata": {
      "needs_background": "light"
     },
     "output_type": "display_data"
    }
   ],
   "source": [
    "#plot test data \n",
    "plt.scatter(y_nnpred, y_test)\n",
    "plt.plot(y_test, y_test, \"red\")"
   ]
  },
  {
   "cell_type": "code",
   "execution_count": null,
   "id": "905dbcec",
   "metadata": {},
   "outputs": [],
   "source": []
  }
 ],
 "metadata": {
  "kernelspec": {
   "display_name": "Python 3",
   "language": "python",
   "name": "python3"
  },
  "language_info": {
   "codemirror_mode": {
    "name": "ipython",
    "version": 3
   },
   "file_extension": ".py",
   "mimetype": "text/x-python",
   "name": "python",
   "nbconvert_exporter": "python",
   "pygments_lexer": "ipython3",
   "version": "3.8.8"
  }
 },
 "nbformat": 4,
 "nbformat_minor": 5
}
