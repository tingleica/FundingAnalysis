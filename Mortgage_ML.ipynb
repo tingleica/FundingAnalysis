{
  "cells": [
    {
      "cell_type": "markdown",
      "metadata": {
        "id": "view-in-github",
        "colab_type": "text"
      },
      "source": [
        "<a href=\"https://colab.research.google.com/github/tingleica/FundingAnalysis/blob/main/Mortgage_ML.ipynb\" target=\"_parent\"><img src=\"https://colab.research.google.com/assets/colab-badge.svg\" alt=\"Open In Colab\"/></a>"
      ]
    },
    {
      "cell_type": "code",
      "execution_count": null,
      "id": "6c52bfa9",
      "metadata": {
        "id": "6c52bfa9"
      },
      "outputs": [],
      "source": [
        "import pandas as pd\n",
        "import numpy as np\n",
        "import requests as rq\n",
        "import zipfile as zf\n",
        "import io\n",
        "import os"
      ]
    },
    {
      "cell_type": "code",
      "execution_count": null,
      "id": "6e8f869a",
      "metadata": {
        "id": "6e8f869a"
      },
      "outputs": [],
      "source": [
        "treasury_yield_list = [\"1M\", \"3M\", \"6M\", \"1Y\", \"2Y\", \"3Y\", \"5Y\", \"7Y\", \"10Y\", \"20Y\", \"30Y\"]"
      ]
    },
    {
      "cell_type": "code",
      "execution_count": null,
      "id": "4e956f2f",
      "metadata": {
        "id": "4e956f2f"
      },
      "outputs": [],
      "source": [
        "columns_list = [\"Date\", \"Type\", \"Issuer\", \"Coupon\"] + treasury_yield_list + [\"WAVGPrice\"]"
      ]
    },
    {
      "cell_type": "code",
      "execution_count": null,
      "id": "e6cae54b",
      "metadata": {
        "id": "e6cae54b"
      },
      "outputs": [],
      "source": [
        "coupon_list = [\"4\", \"4.5\", \"5\", \"5.5\", \"6\"]"
      ]
    },
    {
      "cell_type": "code",
      "execution_count": null,
      "id": "61a370ff",
      "metadata": {
        "id": "61a370ff"
      },
      "outputs": [],
      "source": [
        "def get_date(filename):\n",
        "    import re\n",
        "    from datetime import datetime\n",
        "\n",
        "    match_str = re.search(r'\\d{8}', filename)\n",
        "    res = datetime.strptime(match_str.group(), '%Y%m%d').date()\n",
        "    return (str(res.year) + \"-\" + str(res.month) + \"-\" + str(res.day))"
      ]
    },
    {
      "cell_type": "code",
      "execution_count": null,
      "id": "1486215d",
      "metadata": {
        "id": "1486215d"
      },
      "outputs": [],
      "source": [
        "def format_yield_date(unformatted_date):\n",
        "    import re\n",
        "    from datetime import datetime\n",
        "\n",
        "    match_str = re.search(r'\\d{2}-\\d{2}-\\d{4}', unformatted_date)\n",
        "    res = datetime.strptime(match_str.group(), '%d-%m-%Y').date()\n",
        "    return (str(res.year) + \"-\" + str(res.month) + \"-\" + str(res.day))"
      ]
    },
    {
      "cell_type": "code",
      "execution_count": null,
      "id": "58edb5fb",
      "metadata": {
        "id": "58edb5fb"
      },
      "outputs": [],
      "source": [
        "def fetch_coupon_yields_price_df(asofdate, sfh_type, issuer, coupon, treasury_yields, price):\n",
        "    df = pd.DataFrame([[asofdate, sfh_type, issuer, coupon] + treasury_yields + [price]], columns=columns_list)\n",
        "    return df"
      ]
    },
    {
      "cell_type": "code",
      "execution_count": null,
      "id": "2fd71ed5",
      "metadata": {
        "id": "2fd71ed5"
      },
      "outputs": [],
      "source": [
        "def print_model_debug_info(model_info, X_df, y_df, X_train_df, y_train_df, X_test_df, y_test_df, y_train_pred, y_test_pred, r2_score_train, r2_score_test):\n",
        "    print(\"Testing \" + model_info + \" ...\")\n",
        "\n",
        "    #print(\"Printing X_df ...\")\n",
        "    #print(X_df.to_string())\n",
        "\n",
        "    #print(\"Printing y_df ...\")\n",
        "    #print(y_df.to_string())\n",
        "\n",
        "    #print(\"Printing X_train_df ....\")\n",
        "    #print(X_train_df.to_string())\n",
        "\n",
        "    #print(\"Printing X_test_df ....\")\n",
        "    #print(X_test_df.to_string())\n",
        "\n",
        "    #print(\"Printing y_train_df ....\")\n",
        "    #print(y_train_df.to_string())\n",
        "\n",
        "    #print(\"Printing y_train_pred ...\")\n",
        "    #print(y_train_pred)\n",
        "\n",
        "    #print(\"Printing y_test_df ....\")\n",
        "    #print(y_test_df.to_string())\n",
        "\n",
        "    #print(\"Printing y_test_pred ...\")\n",
        "    #print(y_test_pred)\n",
        "\n",
        "    print(\"Printing r2_score for y_train and y_train_pred ...\")\n",
        "    print(\"Coefficient of determination: %.2f\" % r2_score_train)\n",
        "\n",
        "    print(\"Printing r2_score for y_test and y_test_pred ...\")\n",
        "    print(\"Coefficient of determination: %.2f\" % r2_score_test)"
      ]
    },
    {
      "cell_type": "code",
      "execution_count": null,
      "id": "6b1b0995",
      "metadata": {
        "id": "6b1b0995"
      },
      "outputs": [],
      "source": [
        "def scikit_linear_regression(all_df):\n",
        "    import matplotlib.pyplot as plt\n",
        "    import numpy as np\n",
        "\n",
        "    from sklearn import datasets, linear_model\n",
        "    from sklearn.model_selection import train_test_split\n",
        "    from sklearn.metrics import mean_squared_error, r2_score\n",
        "\n",
        "    X_df = all_df[[\"Type\", \"Issuer\", \"Coupon\", \"1M\", \"3M\", \"6M\", \"1Y\", \"2Y\", \"3Y\", \"5Y\", \"7Y\", \"10Y\", \"20Y\", \"30Y\"]]\n",
        "    Y_df = all_df[[\"WAVGPrice\"]]\n",
        "\n",
        "    X_df = pd.get_dummies(data=X_df, drop_first=True)\n",
        "\n",
        "    X_df_train, X_df_test, Y_df_train, Y_df_test = train_test_split(X_df, Y_df, test_size = .20, random_state = 40)\n",
        "\n",
        "    # Create linear regression object\n",
        "    regr = linear_model.LinearRegression()\n",
        "\n",
        "    # Train the model using the training sets\n",
        "    regr.fit(X_df_train, Y_df_train)\n",
        "\n",
        "    # Make predictions using the training set\n",
        "    Y_df_train_pred = regr.predict(X_df_train)\n",
        "\n",
        "    # Make predictions using the testing set\n",
        "    Y_df_test_pred = regr.predict(X_df_test)\n",
        "\n",
        "    print_model_debug_info(model_info = \"Linear regression\",\n",
        "                           X_df = X_df,\n",
        "                           y_df = Y_df,\n",
        "                           X_train_df = X_df_train,\n",
        "                           y_train_df = Y_df_train,\n",
        "                           X_test_df = X_df_test,\n",
        "                           y_test_df = Y_df_test,\n",
        "                           y_train_pred = Y_df_train_pred,\n",
        "                           y_test_pred = Y_df_test_pred,\n",
        "                           r2_score_train = r2_score(Y_df_train, Y_df_train_pred),\n",
        "                           r2_score_test = r2_score(Y_df_test, Y_df_test_pred))"
      ]
    },
    {
      "cell_type": "code",
      "execution_count": null,
      "id": "b8edce41",
      "metadata": {
        "id": "b8edce41"
      },
      "outputs": [],
      "source": [
        "def scikit_decision_tree_regression(all_df):\n",
        "    import matplotlib.pyplot as plt\n",
        "    import numpy as np\n",
        "\n",
        "    from sklearn import datasets, tree\n",
        "    from sklearn.model_selection import train_test_split\n",
        "    from sklearn.metrics import mean_squared_error, r2_score\n",
        "\n",
        "    X_df = all_df[[\"Type\", \"Issuer\", \"Coupon\", \"1M\", \"3M\", \"6M\", \"1Y\", \"2Y\", \"3Y\", \"5Y\", \"7Y\", \"10Y\", \"20Y\", \"30Y\"]]\n",
        "    y_df = all_df[[\"WAVGPrice\"]]\n",
        "\n",
        "    X_df = pd.get_dummies(data=X_df, drop_first=True)\n",
        "\n",
        "    X_train_df, X_test_df, y_train_df, y_test_df = train_test_split(X_df, y_df, test_size = .25, random_state = 13)\n",
        "\n",
        "    # Create linear regression object\n",
        "    regr = tree.DecisionTreeRegressor()\n",
        "\n",
        "    # Train the model using the training sets\n",
        "    regr.fit(X_train_df, y_train_df)\n",
        "\n",
        "    # Make predictions using the training set\n",
        "    y_train_pred_df = regr.predict(X_train_df)\n",
        "\n",
        "    # Make predictions using the testing set\n",
        "    y_test_pred_df = regr.predict(X_test_df)\n",
        "\n",
        "    print_model_debug_info(model_info = \"Decision Tree regression\",\n",
        "                           X_df = X_df,\n",
        "                           y_df = y_df,\n",
        "                           X_train_df = X_train_df,\n",
        "                           y_train_df = y_train_df,\n",
        "                           X_test_df = X_test_df,\n",
        "                           y_test_df = y_test_df,\n",
        "                           y_train_pred = y_train_pred_df,\n",
        "                           y_test_pred = y_test_pred_df,\n",
        "                           r2_score_train = r2_score(y_train_df, y_train_pred_df),\n",
        "                           r2_score_test = r2_score(y_test_df, y_test_pred_df))"
      ]
    },
    {
      "cell_type": "code",
      "execution_count": null,
      "id": "b2c8c2be",
      "metadata": {
        "id": "b2c8c2be"
      },
      "outputs": [],
      "source": [
        "def scikit_random_forest_regression(all_df):\n",
        "    #import matplotlib.pyplot as plt\n",
        "    import pandas as pd\n",
        "    import numpy as np\n",
        "\n",
        "    from sklearn.model_selection import train_test_split\n",
        "    from sklearn.metrics import r2_score\n",
        "    from sklearn.model_selection import GridSearchCV\n",
        "    from sklearn.preprocessing import OneHotEncoder\n",
        "\n",
        "    from sklearn.ensemble import RandomForestRegressor\n",
        "\n",
        "    all_df['Type'] = all_df['Type'].astype('category')\n",
        "    all_df['Issuer'] = all_df['Issuer'].astype('category')\n",
        "\n",
        "    # Assigning numerical values and storing it in another column\n",
        "    all_df['Type_numerical'] = all_df['Type'].cat.codes\n",
        "    all_df['Issuer_numerical'] = all_df['Issuer'].cat.codes\n",
        "\n",
        "    # Create an instance of One-hot-encoder\n",
        "    #enc = OneHotEncoder()\n",
        "\n",
        "    # Passing encoded columns\n",
        "\n",
        "    #enc_data = pd.DataFrame(enc.fit_transform(\n",
        "    #all_df[['Type_numerical', 'Issuer_numerical']]).toarray())\n",
        "\n",
        "    # Merge with main\n",
        "    #new_all_df = all_df.join(enc_data)\n",
        "\n",
        "    #print(new_all_df.to_string())\n",
        "\n",
        "    #X = all_df.iloc[:, :-1]\n",
        "    #y = all_df.iloc[:, -1]\n",
        "\n",
        "    X_df = all_df[[\"Type_numerical\", \"Issuer_numerical\", \"Coupon\", \"1M\", \"3M\", \"6M\", \"1Y\", \"2Y\", \"3Y\", \"5Y\", \"7Y\", \"10Y\", \"20Y\", \"30Y\"]]\n",
        "    y_df = all_df[[\"WAVGPrice\"]]\n",
        "\n",
        "\n",
        "    # X_df_train, X_df_test, Y_df_train, Y_df_test = train_test_split(X_df, Y_df, test_size = .20, random_state = 1)\n",
        "    X_train, X_test, y_train, y_test = train_test_split(X_df, y_df, test_size = 0.2, random_state = 1)\n",
        "\n",
        "    regr = RandomForestRegressor(n_estimators =100, random_state=0)\n",
        "    regr.fit(X_train, y_train)\n",
        "\n",
        "    # Make predictions using the training set\n",
        "    y_train_pred = regr.predict(X_train)\n",
        "\n",
        "    # Make predictions using the testing set\n",
        "    y_test_pred = regr.predict(X_test)\n",
        "\n",
        "    print_model_debug_info(model_info = \"Random Forest regression\",\n",
        "                           X_df = X_df,\n",
        "                           y_df = y_df,\n",
        "                           X_train_df = X_train,\n",
        "                           y_train_df = y_train,\n",
        "                           X_test_df = X_test,\n",
        "                           y_test_df = y_test,\n",
        "                           y_train_pred = y_train_pred,\n",
        "                           y_test_pred = y_test_pred,\n",
        "                           r2_score_train = r2_score(y_train, y_train_pred),\n",
        "                           r2_score_test = r2_score(y_test, y_test_pred))"
      ]
    },
    {
      "cell_type": "code",
      "execution_count": null,
      "id": "f912aff0",
      "metadata": {
        "id": "f912aff0"
      },
      "outputs": [],
      "source": [
        "#all_df = extract_mbs_data_from_file(test_file, all_treasury_yields)"
      ]
    },
    {
      "cell_type": "code",
      "execution_count": null,
      "id": "8efe4574",
      "metadata": {
        "id": "8efe4574"
      },
      "outputs": [],
      "source": [
        "#all_df = pd.read_excel(\"datasets//finra_data.xlsx\")\n",
        "all_df = pd.read_excel(\"/content/finra_data.xlsx\")\n",
        "print(all_df.to_string())"
      ]
    },
    {
      "cell_type": "code",
      "execution_count": null,
      "id": "35555157",
      "metadata": {
        "id": "35555157"
      },
      "outputs": [],
      "source": [
        "#scikit_linear_regression(all_df)"
      ]
    },
    {
      "cell_type": "code",
      "execution_count": null,
      "id": "f93b0e1f",
      "metadata": {
        "colab": {
          "base_uri": "https://localhost:8080/"
        },
        "id": "f93b0e1f",
        "outputId": "53cc8611-7151-4fa8-8683-17edebbb59d8"
      },
      "outputs": [
        {
          "output_type": "stream",
          "name": "stdout",
          "text": [
            "Testing Decision Tree regression ...\n",
            "Printing r2_score for y_train and y_train_pred ...\n",
            "Coefficient of determination: 1.00\n",
            "Printing r2_score for y_test and y_test_pred ...\n",
            "Coefficient of determination: 0.80\n"
          ]
        }
      ],
      "source": [
        "scikit_decision_tree_regression(all_df)"
      ]
    },
    {
      "cell_type": "code",
      "execution_count": null,
      "id": "3855f66a",
      "metadata": {
        "colab": {
          "base_uri": "https://localhost:8080/"
        },
        "id": "3855f66a",
        "outputId": "98de7a5c-3010-480e-f1cb-1fca9568fe6a"
      },
      "outputs": [
        {
          "output_type": "stream",
          "name": "stderr",
          "text": [
            "<ipython-input-47-b3999df713e4>:44: DataConversionWarning: A column-vector y was passed when a 1d array was expected. Please change the shape of y to (n_samples,), for example using ravel().\n",
            "  regr.fit(X_train, y_train)\n"
          ]
        },
        {
          "output_type": "stream",
          "name": "stdout",
          "text": [
            "Testing Random Forest regression ...\n",
            "Printing r2_score for y_train and y_train_pred ...\n",
            "Coefficient of determination: 0.98\n",
            "Printing r2_score for y_test and y_test_pred ...\n",
            "Coefficient of determination: 0.89\n"
          ]
        }
      ],
      "source": [
        "scikit_random_forest_regression(all_df)"
      ]
    },
    {
      "cell_type": "code",
      "source": [],
      "metadata": {
        "id": "70vjPQnJL6zm"
      },
      "id": "70vjPQnJL6zm",
      "execution_count": null,
      "outputs": []
    },
    {
      "cell_type": "code",
      "execution_count": null,
      "id": "8d5537aa",
      "metadata": {
        "id": "8d5537aa"
      },
      "outputs": [],
      "source": []
    }
  ],
  "metadata": {
    "kernelspec": {
      "display_name": "Python 3 (ipykernel)",
      "language": "python",
      "name": "python3"
    },
    "language_info": {
      "codemirror_mode": {
        "name": "ipython",
        "version": 3
      },
      "file_extension": ".py",
      "mimetype": "text/x-python",
      "name": "python",
      "nbconvert_exporter": "python",
      "pygments_lexer": "ipython3",
      "version": "3.10.9"
    },
    "colab": {
      "provenance": [],
      "include_colab_link": true
    }
  },
  "nbformat": 4,
  "nbformat_minor": 5
}