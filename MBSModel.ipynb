{
  "nbformat": 4,
  "nbformat_minor": 0,
  "metadata": {
    "colab": {
      "provenance": [],
      "authorship_tag": "ABX9TyN2kLxlAgrvPX4jbY5epKhD",
      "include_colab_link": true
    },
    "kernelspec": {
      "name": "python3",
      "display_name": "Python 3"
    },
    "language_info": {
      "name": "python"
    }
  },
  "cells": [
    {
      "cell_type": "markdown",
      "metadata": {
        "id": "view-in-github",
        "colab_type": "text"
      },
      "source": [
        "<a href=\"https://colab.research.google.com/github/tingleica/FundingAnalysis/blob/main/MBSModel.ipynb\" target=\"_parent\"><img src=\"https://colab.research.google.com/assets/colab-badge.svg\" alt=\"Open In Colab\"/></a>"
      ]
    },
    {
      "cell_type": "code",
      "source": [
        "import xgboost as xgb\n",
        "from sklearn.model_selection import train_test_split\n",
        "from sklearn.metrics import mean_squared_error, r2_score\n",
        "import pandas as pd\n",
        "\n",
        "# Load the data\n",
        "df = pd.read_excel(\"/content/finra_data.xlsx\")\n",
        "\n",
        "# One-hot encode the categorical columns 'Type', 'Issuer', and 'Coupon'\n",
        "df = pd.get_dummies(df, columns=['Type', 'Issuer','Coupon'])\n",
        "\n",
        "# Split the data into training and test sets\n",
        "X = df.drop(['WAVGPrice', 'Date'], axis=1)\n",
        "y = df['WAVGPrice']\n",
        "\n",
        "X_train, X_test, y_train, y_test = train_test_split(X, y, test_size=0.2, random_state=2)\n",
        "\n",
        "# Create the XGBoost regressor\n",
        "reg = xgb.XGBRegressor()\n",
        "\n",
        "# Train the model\n",
        "reg.fit(X_train, y_train)\n",
        "\n",
        "# Make predictions on the test set\n",
        "y_pred = reg.predict(X_test)\n",
        "\n",
        "# Evaluate the model\n",
        "mse = mean_squared_error(y_test, y_pred)\n",
        "r2 = r2_score(y_test, y_pred)\n",
        "\n",
        "print('MSE:', mse)\n",
        "print('R-squared:', r2)\n"
      ],
      "metadata": {
        "colab": {
          "base_uri": "https://localhost:8080/"
        },
        "id": "8R64mwgvhthm",
        "outputId": "34b264f3-aca9-444f-f832-40d740177ad9"
      },
      "execution_count": 1,
      "outputs": [
        {
          "output_type": "stream",
          "name": "stdout",
          "text": [
            "MSE: 1.5918756161872298\n",
            "R-squared: 0.8788751715353479\n"
          ]
        }
      ]
    },
    {
      "cell_type": "markdown",
      "source": [
        "Using Cross Validation"
      ],
      "metadata": {
        "id": "-9XSQSs6krFD"
      }
    },
    {
      "cell_type": "code",
      "source": [
        "import xgboost as xgb\n",
        "from sklearn.model_selection import train_test_split, cross_val_score\n",
        "from sklearn.metrics import mean_squared_error, r2_score\n",
        "import pandas as pd\n",
        "\n",
        "# Load the data\n",
        "df = pd.read_excel(\"/content/finra_data.xlsx\")\n",
        "\n",
        "# One-hot encode the categorical columns 'Type','Issuer' and 'Coupon'\n",
        "df = pd.get_dummies(df, columns=['Type', 'Issuer','Coupon'])\n",
        "\n",
        "X = df.drop(['WAVGPrice', 'Date'], axis=1)\n",
        "y = df['WAVGPrice']\n",
        "\n",
        "# Create the XGBoost regressor\n",
        "reg = xgb.XGBRegressor()\n",
        "\n",
        "# Perform cross-validation\n",
        "scores = cross_val_score(reg, X, y, cv=10, scoring='neg_mean_squared_error', verbose=3)  # 5-fold cross-validation\n",
        "\n",
        "# The 'scoring' parameter is set to 'neg_mean_squared_error' to get the negative MSE for each fold\n",
        "\n",
        "# Calculate the mean squared error and R-squared from the cross-validation scores\n",
        "mse_mean = -scores.mean()\n",
        "r2_mean = cross_val_score(reg, X, y, cv=5, scoring='r2').mean()\n",
        "\n",
        "print('MSE (Cross-Validated):', mse_mean)\n",
        "print('R-squared (Cross-Validated):', r2_mean)"
      ],
      "metadata": {
        "colab": {
          "base_uri": "https://localhost:8080/"
        },
        "id": "XVato5fFkel2",
        "outputId": "2ca55edf-4c4f-4204-94f6-eb564928709c"
      },
      "execution_count": 2,
      "outputs": [
        {
          "output_type": "stream",
          "name": "stdout",
          "text": [
            "[CV] END ............................... score: (test=-2.326) total time=   0.1s\n",
            "[CV] END ............................... score: (test=-2.539) total time=   0.1s\n",
            "[CV] END ............................... score: (test=-2.122) total time=   0.1s\n",
            "[CV] END ............................... score: (test=-1.539) total time=   0.1s\n",
            "[CV] END ............................... score: (test=-1.677) total time=   0.1s\n",
            "[CV] END ............................... score: (test=-2.032) total time=   0.1s\n",
            "[CV] END ............................... score: (test=-2.032) total time=   0.1s\n",
            "[CV] END ............................... score: (test=-1.500) total time=   0.1s\n",
            "[CV] END ............................... score: (test=-1.594) total time=   0.1s\n",
            "[CV] END ............................... score: (test=-2.689) total time=   0.1s\n",
            "MSE (Cross-Validated): 2.0049248197376652\n",
            "R-squared (Cross-Validated): 0.8602965250282624\n"
          ]
        }
      ]
    }
  ]
}